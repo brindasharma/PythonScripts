{
 "cells": [
  {
   "cell_type": "markdown",
   "metadata": {},
   "source": [
    "## Welcome to your notebook.\n"
   ]
  },
  {
   "cell_type": "markdown",
   "metadata": {},
   "source": [
    "#### Run this cell to connect to your GIS and get started:"
   ]
  },
  {
   "cell_type": "code",
   "execution_count": 2,
   "metadata": {},
   "outputs": [],
   "source": [
    "#from arcgis.gis import GIS\n",
    "#gis = GIS(\"home\")\n",
    "import requests"
   ]
  },
  {
   "cell_type": "markdown",
   "metadata": {},
   "source": [
    "#### Now you are ready to start!"
   ]
  },
  {
   "cell_type": "code",
   "execution_count": null,
   "metadata": {},
   "outputs": [],
   "source": []
  },
  {
   "cell_type": "code",
   "execution_count": 7,
   "metadata": {},
   "outputs": [],
   "source": [
    "def generate_token(username, secret):\n",
    "    payload = {\n",
    "        'username': username,\n",
    "        'password': secret,\n",
    "        'expiration': 1440,\n",
    "         'referer': \"http://www.arcgis.com\",\n",
    "            'f' : \"json\"\n",
    "\n",
    "    }\n",
    "    \n",
    "\n",
    "    params = {\n",
    "        'f': 'json'\n",
    "    }\n",
    "    request = requests.post('https://www.arcgis.com/sharing/rest/generateToken', data=payload, params=params)\n",
    "    response = request.json()\n",
    "    token = response['token']\n",
    "    return token\n",
    "    \n",
    "\n",
    "\n",
    "\n",
    "token=generate_token(username=\".......\",secret=\"........\")\n"
   ]
  },
  {
   "cell_type": "code",
   "execution_count": 8,
   "metadata": {},
   "outputs": [
    {
     "data": {
      "text/plain": [
       "'pqYIxKDieamkabWBwsb5HFggxoFNzq1uVA7fl-zGzeyFnMj6jJrV66YD95Xx_ZpSnimPku1y3bp4VfloZnIQc9RteyKZzTMRm-VuVnIPtMVwdw5fGwtfqwpS7Anxgd6eyM7WYQ9nzszFTw-i-4j_sfm1LBi6765vCB0kawIzF6l77IkyVZwlMJpWGld-Rs4E'"
      ]
     },
     "execution_count": 8,
     "metadata": {},
     "output_type": "execute_result"
    }
   ],
   "source": [
    "token\n"
   ]
  },
  {
   "cell_type": "raw",
   "metadata": {},
   "source": []
  },
  {
   "cell_type": "raw",
   "metadata": {},
   "source": []
  },
  {
   "cell_type": "code",
   "execution_count": 17,
   "metadata": {
    "scrolled": false
   },
   "outputs": [],
   "source": [
    "url=\"https://services2.arcgis.com/Hswtn9wQRUJRNdR3/ArcGIS/rest/services/base_alert_layer/FeatureServer/0/?&token=pqYIxKDieamkabWBwsb5HFggxoFNzq1uVA7fl-zGzeyFnMj6jJrV66YD95Xx_ZpSnimPku1y3bp4VfloZnIQc9RteyKZzTMRm-VuVnIPtMVwdw5fGwtfqwpS7Anxgd6eyM7WYQ9nzszFTw-i-4j_sfm1LBi6765vCB0kawIzF6l77IkyVZwlMJpWGld-Rs4E&f=json\"\n",
    "data = requests.get(url).json()\n",
    "data"
   ]
  },
  {
   "cell_type": "code",
   "execution_count": null,
   "metadata": {},
   "outputs": [],
   "source": [
    "\n",
    "                \n",
    "                "
   ]
  },
  {
   "cell_type": "code",
   "execution_count": null,
   "metadata": {},
   "outputs": [],
   "source": []
  },
  {
   "cell_type": "code",
   "execution_count": null,
   "metadata": {},
   "outputs": [],
   "source": []
  }
 ],
 "metadata": {
  "esriNotebookRuntime": {
   "notebookRuntimeName": "ArcGIS Notebook Python 3 Standard",
   "notebookRuntimeVersion": "5.0"
  },
  "kernelspec": {
   "display_name": "Python 3",
   "language": "python",
   "name": "python3"
  },
  "language_info": {
   "codemirror_mode": {
    "name": "ipython",
    "version": 3
   },
   "file_extension": ".py",
   "mimetype": "text/x-python",
   "name": "python",
   "nbconvert_exporter": "python",
   "pygments_lexer": "ipython3",
   "version": "3.7.9"
  }
 },
 "nbformat": 4,
 "nbformat_minor": 2
}
